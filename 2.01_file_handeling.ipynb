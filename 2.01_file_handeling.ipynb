{
 "cells": [
  {
   "cell_type": "markdown",
   "metadata": {},
   "source": [
    "# File Handling\n",
    "1. Import files\n",
    "2. Read\n",
    "3. Write"
   ]
  },
  {
   "cell_type": "markdown",
   "metadata": {},
   "source": [
    "## 1. Import files"
   ]
  },
  {
   "cell_type": "code",
   "execution_count": 8,
   "metadata": {},
   "outputs": [
    {
     "data": {
      "text/plain": [
       "'/Users/stefanvolk/Desktop'"
      ]
     },
     "execution_count": 8,
     "metadata": {},
     "output_type": "execute_result"
    }
   ],
   "source": [
    "import os\n",
    "os.getcwd()"
   ]
  },
  {
   "cell_type": "code",
   "execution_count": 14,
   "metadata": {},
   "outputs": [
    {
     "data": {
      "text/plain": [
       "['/Users/stefanvolk/Desktop/file_path.txt',\n",
       " '/Users/stefanvolk/Desktop/python-vorlesung.txt',\n",
       " '/Users/stefanvolk/Desktop/NewFile.txt']"
      ]
     },
     "execution_count": 14,
     "metadata": {},
     "output_type": "execute_result"
    }
   ],
   "source": [
    "directory = os.getcwd()\n",
    "# import files in all subfolders from directory\n",
    "files = [(directory + \"/\" + f) for f in os.listdir(directory) if f.endswith(\".txt\")]  # creates a list of all \n",
    "        # file directories from the given directory\n",
    "files"
   ]
  },
  {
   "cell_type": "code",
   "execution_count": 13,
   "metadata": {},
   "outputs": [],
   "source": [
    "# with Statement\n",
    "with open('file_path.txt', 'w') as file: \n",
    "    file.write('hello world !2') "
   ]
  },
  {
   "cell_type": "code",
   "execution_count": 1,
   "metadata": {},
   "outputs": [
    {
     "data": {
      "text/plain": [
       "'b'"
      ]
     },
     "execution_count": 1,
     "metadata": {},
     "output_type": "execute_result"
    }
   ],
   "source": [
    "\"r\" # Read (devault value)\n",
    "\"a\" # Append \n",
    "\"w\" # Write\n",
    "\"x\" # Create, returns error if exsits\n",
    "\"t\" # Text (devault value)\n",
    "\"b\" # Binary"
   ]
  },
  {
   "cell_type": "code",
   "execution_count": null,
   "metadata": {},
   "outputs": [],
   "source": []
  },
  {
   "cell_type": "code",
   "execution_count": null,
   "metadata": {},
   "outputs": [],
   "source": []
  },
  {
   "cell_type": "code",
   "execution_count": null,
   "metadata": {},
   "outputs": [],
   "source": [
    "# Read Only Parts of the File\n",
    "\n",
    "print(f.read(5)) # Return the 5 first characters of the file\n",
    "\n",
    "print(f.readline()) # Returns one line\n",
    "\n",
    "    # calling realine() x times the first x lines are returned\n",
    "\n"
   ]
  },
  {
   "cell_type": "code",
   "execution_count": null,
   "metadata": {},
   "outputs": [],
   "source": []
  },
  {
   "cell_type": "code",
   "execution_count": 5,
   "metadata": {},
   "outputs": [
    {
     "data": {
      "text/plain": [
       "True"
      ]
     },
     "execution_count": 5,
     "metadata": {},
     "output_type": "execute_result"
    }
   ],
   "source": []
  },
  {
   "cell_type": "code",
   "execution_count": null,
   "metadata": {},
   "outputs": [],
   "source": []
  },
  {
   "cell_type": "code",
   "execution_count": null,
   "metadata": {},
   "outputs": [],
   "source": []
  },
  {
   "cell_type": "code",
   "execution_count": null,
   "metadata": {},
   "outputs": [],
   "source": []
  },
  {
   "cell_type": "code",
   "execution_count": null,
   "metadata": {},
   "outputs": [],
   "source": []
  },
  {
   "cell_type": "code",
   "execution_count": 3,
   "metadata": {},
   "outputs": [
    {
     "data": {
      "text/plain": [
       "'/Users/stefanvolk/Documents/Ausbildung/Coding/Python/Basics'"
      ]
     },
     "execution_count": 3,
     "metadata": {},
     "output_type": "execute_result"
    }
   ],
   "source": [
    "import os\n",
    "os.getcwd()"
   ]
  },
  {
   "cell_type": "code",
   "execution_count": 4,
   "metadata": {},
   "outputs": [],
   "source": [
    "file = open('python-vorlesung.txt', 'w')\n",
    "file.write('Erste Zeile: Klausur Datum?\\n')\n",
    "file.write('Zweite Zeile: Vorschlag 1: 12.02.2021\\n')\n",
    "file.write('Dritte Zeile: Vorschlag 2: 26.02.2021\\n')\n",
    "file.close()"
   ]
  },
  {
   "cell_type": "code",
   "execution_count": 36,
   "metadata": {},
   "outputs": [
    {
     "name": "stdout",
     "output_type": "stream",
     "text": [
      "Datei Inhalt\n",
      " Erste Zeile: Klausur Datum?\n",
      "Zweite Zeile: Vorschlag 1: 12.02.2021\n",
      "Dritte Zeile: Vorschlag 2: 26.02.2021\n",
      "\n"
     ]
    }
   ],
   "source": [
    "def open_file():\n",
    "    file = open('python-vorlesung.txt', mode= 'r')\n",
    "    inhalt = file.read() # liefert str\n",
    "    print('Datei Inhalt\\n', inhalt)\n",
    "    file.close()\n",
    "open_file()"
   ]
  },
  {
   "cell_type": "code",
   "execution_count": 37,
   "metadata": {},
   "outputs": [
    {
     "name": "stdout",
     "output_type": "stream",
     "text": [
      "Datei Inhalt\n",
      " Erste Zeile: Klausur Datum?\n",
      "Zweite Zeile: Vorschlag 1: 12.02.2021\n",
      "Dritte Zeile: Vorschlag 2: 26.02.2021\n",
      "Vierte Zeile: Ihre Meinung?\n",
      "\n"
     ]
    }
   ],
   "source": [
    "file = open('python-vorlesung.txt', 'a')\n",
    "file.write('Vierte Zeile: Ihre Meinung?\\n')\n",
    "file.close()\n",
    "\n",
    "open_file()"
   ]
  },
  {
   "cell_type": "code",
   "execution_count": null,
   "metadata": {},
   "outputs": [],
   "source": []
  },
  {
   "cell_type": "code",
   "execution_count": null,
   "metadata": {},
   "outputs": [],
   "source": [
    "# diese Funktionen nacharbeiten / nachschauen\n",
    "tell() seek()"
   ]
  },
  {
   "cell_type": "code",
   "execution_count": 39,
   "metadata": {},
   "outputs": [
    {
     "name": "stdout",
     "output_type": "stream",
     "text": [
      "e: Vorschlag 1: 12.02.2021\n",
      "Dritte Zeile: Vorschlag 2: 26.02.2021\n",
      "Vierte Zeile: Ihre Meinung?\n",
      "\n"
     ]
    }
   ],
   "source": [
    "with open('python-vorlesung.txt', mode='r+') as file:\n",
    "    file.seek(27)\n",
    "    file.write('MAADAADANESS')\n",
    "    print(file.read())"
   ]
  },
  {
   "cell_type": "code",
   "execution_count": 46,
   "metadata": {},
   "outputs": [
    {
     "name": "stdout",
     "output_type": "stream",
     "text": [
      "Datei Inhalt\n",
      " Erste Zeile: Klausur Datum?MAADAADANESSe: Vorschlag 1: 12.02.2021\n",
      "Dritte Zeile: Vorschlag 2: 26.02.2021\n",
      "Vierte Zeile: Ihre Meinung?\n",
      " 16\n",
      "Index von dem Wort Zeile ist  1\n",
      "['Erste', 'Zeile:', 'Klausur', 'Datum?MAADAADANESSe:', 'Vorschlag', '1:', '12.02.2021', 'Dritte', 'Zeile:', 'Vorschlag', '2:', '26.02.2021', 'Vierte', 'Zeile:', 'Ihre', 'Meinung?']\n"
     ]
    }
   ],
   "source": [
    "file = open('python-vorlesung.txt', mode= 'r')\n",
    "inhalt = file.read() # liefert str\n",
    "words = inhalt.split()\n",
    "print('Datei Inhalt\\n', inhalt, len(words))\n",
    "print('Index von dem Wort Zeile ist ', words.index('Zeile:'))\n",
    "print(words)\n",
    "file.close()\n",
    "\n"
   ]
  },
  {
   "cell_type": "code",
   "execution_count": null,
   "metadata": {},
   "outputs": [],
   "source": []
  },
  {
   "cell_type": "code",
   "execution_count": null,
   "metadata": {},
   "outputs": [],
   "source": []
  },
  {
   "cell_type": "code",
   "execution_count": null,
   "metadata": {},
   "outputs": [],
   "source": []
  },
  {
   "cell_type": "code",
   "execution_count": null,
   "metadata": {},
   "outputs": [],
   "source": []
  },
  {
   "cell_type": "code",
   "execution_count": null,
   "metadata": {},
   "outputs": [],
   "source": [
    "list_1 = [0] * 10\n",
    "list_1"
   ]
  },
  {
   "cell_type": "code",
   "execution_count": 3,
   "metadata": {},
   "outputs": [
    {
     "data": {
      "text/plain": [
       "[1, 0, 0, 0, 0, 0, 0, 0, 0, 0]"
      ]
     },
     "execution_count": 3,
     "metadata": {},
     "output_type": "execute_result"
    }
   ],
   "source": [
    "list_1[0] = 1\n",
    "list_1"
   ]
  },
  {
   "cell_type": "code",
   "execution_count": 4,
   "metadata": {},
   "outputs": [
    {
     "data": {
      "text/plain": [
       "[1, 0, 0, 0, 0, 0, 0, 0, 0, 1]"
      ]
     },
     "execution_count": 4,
     "metadata": {},
     "output_type": "execute_result"
    }
   ],
   "source": [
    "list_1[-1] = 1\n",
    "list_1"
   ]
  },
  {
   "cell_type": "code",
   "execution_count": 5,
   "metadata": {},
   "outputs": [
    {
     "data": {
      "text/plain": [
       "{'key1': 'value1', 'key2': 'value2', 'key3': 'value3'}"
      ]
     },
     "execution_count": 5,
     "metadata": {},
     "output_type": "execute_result"
    }
   ],
   "source": [
    "dict_1 = {'key1': 'value1', 'key2': 'value2', 'key3': 'value3'}\n",
    "dict_1"
   ]
  },
  {
   "cell_type": "code",
   "execution_count": 15,
   "metadata": {},
   "outputs": [
    {
     "data": {
      "text/plain": [
       "{1: 1, 0: 0}"
      ]
     },
     "execution_count": 15,
     "metadata": {},
     "output_type": "execute_result"
    }
   ],
   "source": [
    "dict_2 = {x:x for x in list_1}\n",
    "dict_2"
   ]
  },
  {
   "cell_type": "code",
   "execution_count": 11,
   "metadata": {},
   "outputs": [
    {
     "data": {
      "text/plain": [
       "{1: 1, 2: 2, 3: 3, 4: 4, 5: 5, 6: 6, 7: 7}"
      ]
     },
     "execution_count": 11,
     "metadata": {},
     "output_type": "execute_result"
    }
   ],
   "source": [
    "input_list = [1,2,3,4,5,6,7] \n",
    "  \n",
    "dict_using_comp = {var:var for var in input_list}\n",
    "dict_using_comp"
   ]
  },
  {
   "cell_type": "code",
   "execution_count": null,
   "metadata": {},
   "outputs": [],
   "source": []
  }
 ],
 "metadata": {
  "kernelspec": {
   "display_name": "Python 3",
   "language": "python",
   "name": "python3"
  },
  "language_info": {
   "codemirror_mode": {
    "name": "ipython",
    "version": 3
   },
   "file_extension": ".py",
   "mimetype": "text/x-python",
   "name": "python",
   "nbconvert_exporter": "python",
   "pygments_lexer": "ipython3",
   "version": "3.8.3"
  }
 },
 "nbformat": 4,
 "nbformat_minor": 4
}
